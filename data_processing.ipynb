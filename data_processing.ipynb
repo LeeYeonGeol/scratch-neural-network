{
 "cells": [
  {
   "cell_type": "code",
   "execution_count": 1,
   "metadata": {},
   "outputs": [],
   "source": [
    "import pandas as pd"
   ]
  },
  {
   "cell_type": "code",
   "execution_count": 2,
   "metadata": {},
   "outputs": [
    {
     "data": {
      "text/plain": [
       "(77, 9)"
      ]
     },
     "execution_count": 2,
     "metadata": {},
     "output_type": "execute_result"
    }
   ],
   "source": [
    "df = pd.read_csv(\"data/KBO_DATA.csv\")\n",
    "df.shape"
   ]
  },
  {
   "cell_type": "code",
   "execution_count": 7,
   "metadata": {},
   "outputs": [
    {
     "data": {
      "text/html": [
       "<div>\n",
       "<style scoped>\n",
       "    .dataframe tbody tr th:only-of-type {\n",
       "        vertical-align: middle;\n",
       "    }\n",
       "\n",
       "    .dataframe tbody tr th {\n",
       "        vertical-align: top;\n",
       "    }\n",
       "\n",
       "    .dataframe thead th {\n",
       "        text-align: right;\n",
       "    }\n",
       "</style>\n",
       "<table border=\"1\" class=\"dataframe\">\n",
       "  <thead>\n",
       "    <tr style=\"text-align: right;\">\n",
       "      <th></th>\n",
       "      <th>SEASON</th>\n",
       "      <th>TEAM</th>\n",
       "      <th>AVG</th>\n",
       "      <th>OBP</th>\n",
       "      <th>SLG</th>\n",
       "      <th>ERA</th>\n",
       "      <th>FIP</th>\n",
       "      <th>WHIP</th>\n",
       "      <th>GRADE</th>\n",
       "    </tr>\n",
       "  </thead>\n",
       "  <tbody>\n",
       "    <tr>\n",
       "      <th>0</th>\n",
       "      <td>21</td>\n",
       "      <td>LEAGUE</td>\n",
       "      <td>0.260</td>\n",
       "      <td>0.346</td>\n",
       "      <td>0.383</td>\n",
       "      <td>4.45</td>\n",
       "      <td>4.45</td>\n",
       "      <td>1.46</td>\n",
       "      <td>NaN</td>\n",
       "    </tr>\n",
       "    <tr>\n",
       "      <th>1</th>\n",
       "      <td>21</td>\n",
       "      <td>SSG</td>\n",
       "      <td>0.261</td>\n",
       "      <td>0.354</td>\n",
       "      <td>0.421</td>\n",
       "      <td>4.84</td>\n",
       "      <td>4.86</td>\n",
       "      <td>1.51</td>\n",
       "      <td>6.0</td>\n",
       "    </tr>\n",
       "    <tr>\n",
       "      <th>2</th>\n",
       "      <td>21</td>\n",
       "      <td>DOOSAN</td>\n",
       "      <td>0.268</td>\n",
       "      <td>0.350</td>\n",
       "      <td>0.390</td>\n",
       "      <td>4.26</td>\n",
       "      <td>4.27</td>\n",
       "      <td>1.48</td>\n",
       "      <td>2.0</td>\n",
       "    </tr>\n",
       "    <tr>\n",
       "      <th>3</th>\n",
       "      <td>21</td>\n",
       "      <td>LOTTE</td>\n",
       "      <td>0.278</td>\n",
       "      <td>0.356</td>\n",
       "      <td>0.399</td>\n",
       "      <td>5.38</td>\n",
       "      <td>4.75</td>\n",
       "      <td>1.57</td>\n",
       "      <td>8.0</td>\n",
       "    </tr>\n",
       "    <tr>\n",
       "      <th>4</th>\n",
       "      <td>21</td>\n",
       "      <td>NC</td>\n",
       "      <td>0.261</td>\n",
       "      <td>0.343</td>\n",
       "      <td>0.416</td>\n",
       "      <td>4.54</td>\n",
       "      <td>4.51</td>\n",
       "      <td>1.48</td>\n",
       "      <td>7.0</td>\n",
       "    </tr>\n",
       "  </tbody>\n",
       "</table>\n",
       "</div>"
      ],
      "text/plain": [
       "   SEASON    TEAM    AVG   OBP     SLG   ERA   FIP  WHIP  GRADE\n",
       "0      21  LEAGUE  0.260  0.346  0.383  4.45  4.45  1.46    NaN\n",
       "1      21     SSG  0.261  0.354  0.421  4.84  4.86  1.51    6.0\n",
       "2      21  DOOSAN  0.268  0.350  0.390  4.26  4.27  1.48    2.0\n",
       "3      21   LOTTE  0.278  0.356  0.399  5.38  4.75  1.57    8.0\n",
       "4      21      NC  0.261  0.343  0.416  4.54  4.51  1.48    7.0"
      ]
     },
     "execution_count": 7,
     "metadata": {},
     "output_type": "execute_result"
    }
   ],
   "source": [
    "df.head()"
   ]
  },
  {
   "cell_type": "code",
   "execution_count": 6,
   "metadata": {},
   "outputs": [
    {
     "name": "stdout",
     "output_type": "stream",
     "text": [
      "Pandas(Index=1, SEASON=21, TEAM='SSG', AVG=0.261, _4=0.354, SLG=0.421, ERA=4.84, FIP=4.86, WHIP=1.51, GRADE=6.0)\n",
      "defaultdict(<class 'list'>, {21: [0.26, 0.346, 0.383, 4.45, 4.45, 1.46]})\n"
     ]
    }
   ],
   "source": [
    "from collections import defaultdict\n",
    "db = defaultdict(list)\n",
    "n_db = defaultdict()\n",
    "for item in df.itertuples():\n",
    "    if item[2] == 'LEAGUE':\n",
    "        db[item[1]] = [item[3],item[4],item[5],item[6],item[7],item[8]]\n",
    "    else:\n",
    "        print(item)\n",
    "        break\n",
    "print(db)"
   ]
  },
  {
   "cell_type": "code",
   "execution_count": null,
   "metadata": {},
   "outputs": [],
   "source": []
  }
 ],
 "metadata": {
  "kernelspec": {
   "display_name": "Python 3.9.9 64-bit",
   "language": "python",
   "name": "python3"
  },
  "language_info": {
   "codemirror_mode": {
    "name": "ipython",
    "version": 3
   },
   "file_extension": ".py",
   "mimetype": "text/x-python",
   "name": "python",
   "nbconvert_exporter": "python",
   "pygments_lexer": "ipython3",
   "version": "3.9.9"
  },
  "orig_nbformat": 4,
  "vscode": {
   "interpreter": {
    "hash": "d6126ba70799e0bd60e462a35daa4c136232a7dc5fd119964f9246470347f1b4"
   }
  }
 },
 "nbformat": 4,
 "nbformat_minor": 2
}
