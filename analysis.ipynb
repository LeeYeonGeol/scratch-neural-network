{
 "cells": [
  {
   "cell_type": "code",
   "execution_count": 1,
   "id": "433ccf30",
   "metadata": {},
   "outputs": [],
   "source": [
    "# import\n",
    "import numpy as np\n",
    "import pandas as pd\n",
    "import matplotlib.pyplot as plt\n",
    "import seaborn as sns\n",
    "import neural_network\n",
    "import data_preprocessing\n",
    "import warnings\n",
    "warnings.filterwarnings(action='ignore')\n",
    "%config Completer.use_jedi = False\n",
    "plt.rc(\"font\", family = \"Malgun Gothic\")\n",
    "sns.set(font=\"Malgun Gothic\", \n",
    "rc={\"axes.unicode_minus\":False}, style='white')\n"
   ]
  },
  {
   "cell_type": "code",
   "execution_count": 2,
   "id": "a4427556",
   "metadata": {},
   "outputs": [],
   "source": [
    "# np & pd 관련 설정\n",
    "np.random.seed(42)\n",
    "np.set_printoptions(precision=2, suppress=True)\n",
    "pd.options.display.float_format = '{:.3f}'.format"
   ]
  },
  {
   "cell_type": "code",
   "execution_count": 3,
   "id": "6585a708",
   "metadata": {},
   "outputs": [],
   "source": [
    "# 훈련 데이터 로드\n",
    "train_data = pd.read_csv(\"data/KBO_TRAIN.csv\")\n",
    "\n",
    "# 전처리\n",
    "X_train, y_train = train_data.drop('GRADE', axis=1), train_data['GRADE']\n",
    "X_train = data_preprocessing.preprocess_X(X_train)\n",
    "y_train = data_preprocessing.preprocess_y(y_train)\n",
    "\n",
    "# 스케일링\n",
    "X_train, mean, std = data_preprocessing.standard_X(X_train)\n"
   ]
  },
  {
   "cell_type": "markdown",
   "id": "74f91595",
   "metadata": {},
   "source": [
    "## train 데이터 분석"
   ]
  },
  {
   "cell_type": "code",
   "execution_count": 4,
   "id": "aef289f1",
   "metadata": {},
   "outputs": [
    {
     "data": {
      "text/html": [
       "<div>\n",
       "<style scoped>\n",
       "    .dataframe tbody tr th:only-of-type {\n",
       "        vertical-align: middle;\n",
       "    }\n",
       "\n",
       "    .dataframe tbody tr th {\n",
       "        vertical-align: top;\n",
       "    }\n",
       "\n",
       "    .dataframe thead th {\n",
       "        text-align: right;\n",
       "    }\n",
       "</style>\n",
       "<table border=\"1\" class=\"dataframe\">\n",
       "  <thead>\n",
       "    <tr style=\"text-align: right;\">\n",
       "      <th></th>\n",
       "      <th>AVG</th>\n",
       "      <th>OBP</th>\n",
       "      <th>SLG</th>\n",
       "      <th>ERA</th>\n",
       "      <th>FIP</th>\n",
       "      <th>WHIP</th>\n",
       "    </tr>\n",
       "  </thead>\n",
       "  <tbody>\n",
       "    <tr>\n",
       "      <th>0</th>\n",
       "      <td>0.124</td>\n",
       "      <td>0.675</td>\n",
       "      <td>1.614</td>\n",
       "      <td>0.917</td>\n",
       "      <td>1.443</td>\n",
       "      <td>0.639</td>\n",
       "    </tr>\n",
       "    <tr>\n",
       "      <th>1</th>\n",
       "      <td>0.760</td>\n",
       "      <td>0.345</td>\n",
       "      <td>0.300</td>\n",
       "      <td>-0.449</td>\n",
       "      <td>-0.635</td>\n",
       "      <td>0.255</td>\n",
       "    </tr>\n",
       "    <tr>\n",
       "      <th>2</th>\n",
       "      <td>1.668</td>\n",
       "      <td>0.840</td>\n",
       "      <td>0.681</td>\n",
       "      <td>2.189</td>\n",
       "      <td>1.056</td>\n",
       "      <td>1.405</td>\n",
       "    </tr>\n",
       "    <tr>\n",
       "      <th>3</th>\n",
       "      <td>0.124</td>\n",
       "      <td>-0.233</td>\n",
       "      <td>1.402</td>\n",
       "      <td>0.211</td>\n",
       "      <td>0.210</td>\n",
       "      <td>0.255</td>\n",
       "    </tr>\n",
       "    <tr>\n",
       "      <th>4</th>\n",
       "      <td>0.487</td>\n",
       "      <td>0.840</td>\n",
       "      <td>-0.039</td>\n",
       "      <td>-1.815</td>\n",
       "      <td>-2.502</td>\n",
       "      <td>-1.790</td>\n",
       "    </tr>\n",
       "  </tbody>\n",
       "</table>\n",
       "</div>"
      ],
      "text/plain": [
       "    AVG    OBP    SLG    ERA    FIP   WHIP\n",
       "0 0.124  0.675  1.614  0.917  1.443  0.639\n",
       "1 0.760  0.345  0.300 -0.449 -0.635  0.255\n",
       "2 1.668  0.840  0.681  2.189  1.056  1.405\n",
       "3 0.124 -0.233  1.402  0.211  0.210  0.255\n",
       "4 0.487  0.840 -0.039 -1.815 -2.502 -1.790"
      ]
     },
     "execution_count": 4,
     "metadata": {},
     "output_type": "execute_result"
    }
   ],
   "source": [
    "X_train.head()"
   ]
  },
  {
   "cell_type": "code",
   "execution_count": 5,
   "id": "98d4b996",
   "metadata": {},
   "outputs": [
    {
     "data": {
      "text/plain": [
       "<AxesSubplot:>"
      ]
     },
     "execution_count": 5,
     "metadata": {},
     "output_type": "execute_result"
    },
    {
     "data": {
      "image/png": "[encoded data removed]",
      "text/plain": [
       "<Figure size 432x288 with 2 Axes>"
      ]
     },
     "metadata": {},
     "output_type": "display_data"
    }
   ],
   "source": [
    "sns.heatmap(X_train.corr(), cmap='coolwarm', vmin=-1, vmax=1, annot=True)"
   ]
  },
  {
   "cell_type": "markdown",
   "id": "0b262522",
   "metadata": {},
   "source": [
    "1. 전체적으로 타격지표끼리, 투수지표끼리 종속성이 너무 높다.\n",
    "2. 특히 타율과 출루율, 방어율과 WHIP가 많이 높았다. (아무래도 직접적인 연관이 크기 때문)\n",
    "\n",
    "따라서, **추후에 데이터를 정할 때는 종속성을 고려하여 차원 축소 혹은 데이터 삭제 등 여러가지를 생각해봐야할 것이다.**"
   ]
  },
  {
   "cell_type": "markdown",
   "id": "bcd95060",
   "metadata": {},
   "source": [
    "## 가중치 초기화 실험"
   ]
  },
  {
   "cell_type": "markdown",
   "id": "da5cdbef",
   "metadata": {},
   "source": [
    "문득, Xavier initialization을 적용했을 때와 안했을 때의 차이가 궁금해져서 실험해보았다."
   ]
  },
  {
   "cell_type": "code",
   "execution_count": 6,
   "id": "e164aaba",
   "metadata": {},
   "outputs": [
    {
     "name": "stderr",
     "output_type": "stream",
     "text": [
      "100%|████████████████████████████████████████████████████████████████████████████████| 829/829 [00:08<00:00, 94.34it/s]\n"
     ]
    }
   ],
   "source": [
    "# 뉴럴네트워크 생성\n",
    "nn = neural_network.neuralnetwork()\n",
    "\n",
    "# 학습\n",
    "learning_rate = 0.01\n",
    "epochs = 829\n",
    "output_1 = nn.train(X_train, y_train, learning_rate, epochs)"
   ]
  },
  {
   "cell_type": "code",
   "execution_count": 7,
   "id": "2683c608",
   "metadata": {},
   "outputs": [
    {
     "name": "stderr",
     "output_type": "stream",
     "text": [
      "100%|████████████████████████████████████████████████████████████████████████████████| 829/829 [00:08<00:00, 93.65it/s]\n"
     ]
    }
   ],
   "source": [
    "# 뉴럴네트워크 생성\n",
    "nn2 = neural_network.neuralnetwork()\n",
    "\n",
    "# Xavier initialization\n",
    "nn2.xavier_initialization\n",
    "\n",
    "# 학습\n",
    "learning_rate = 0.01\n",
    "epochs = 829\n",
    "output_2 = nn2.train(X_train, y_train, learning_rate, epochs)"
   ]
  },
  {
   "cell_type": "code",
   "execution_count": 8,
   "id": "7a4faccb",
   "metadata": {},
   "outputs": [
    {
     "data": {
      "text/plain": [
       "<matplotlib.legend.Legend at 0x20c11032a60>"
      ]
     },
     "execution_count": 8,
     "metadata": {},
     "output_type": "execute_result"
    },
    {
     "data": {
      "image/png": "[encoded data removed]",
      "text/plain": [
       "<Figure size 432x288 with 1 Axes>"
      ]
     },
     "metadata": {},
     "output_type": "display_data"
    }
   ],
   "source": [
    "sns.lineplot(data=output_1, x=\"epoch\", y=\"loss\")\n",
    "sns.lineplot(data=output_2, x=\"epoch\", y=\"loss\")\n",
    "plt.ylim([0, max(output_1[\"loss\"])+0.5])\n",
    "plt.legend(labels = [\"output_1\", \"output_2\"])"
   ]
  },
  {
   "cell_type": "markdown",
   "id": "2cb8102a",
   "metadata": {},
   "source": [
    "큰 차이는 없는 듯하다."
   ]
  },
  {
   "cell_type": "markdown",
   "id": "194b90a9",
   "metadata": {},
   "source": [
    "## 실험 결과 "
   ]
  },
  {
   "cell_type": "code",
   "execution_count": 9,
   "id": "52f8d9d9",
   "metadata": {},
   "outputs": [],
   "source": [
    "# 테스트 데이터 로드\n",
    "test_data = pd.read_csv(\"data/KBO_TEST.csv\")\n",
    "\n",
    "# 전처리\n",
    "X_test, y_test = test_data.drop('GRADE', axis=1), test_data['GRADE']\n",
    "X_test = data_preprocessing.preprocess_X(X_test)\n",
    "y_test = data_preprocessing.preprocess_y(y_test)\n",
    "\n",
    "# 스케일링\n",
    "X_test, mean, std = data_preprocessing.standard_X(X_test, mean = mean, std = std)\n",
    "\n",
    "# 예측\n",
    "pred_top3, pred_detail = nn.predict(X_test, y_test, TEAM = test_data.dropna()['TEAM'])"
   ]
  },
  {
   "cell_type": "markdown",
   "id": "ce467ef9",
   "metadata": {},
   "source": [
    "데이터는 2022시즌 전반기까지의 데이터이다. 팀별로 확인해보자. 팀은 현재순위 순서이다."
   ]
  },
  {
   "cell_type": "markdown",
   "id": "45fcad4d",
   "metadata": {},
   "source": [
    "### 1위) SSG 랜더스"
   ]
  },
  {
   "cell_type": "code",
   "execution_count": 10,
   "id": "64e04a11",
   "metadata": {},
   "outputs": [
    {
     "data": {
      "text/plain": [
       "Text(0, 0.5, '확률')"
      ]
     },
     "execution_count": 10,
     "metadata": {},
     "output_type": "execute_result"
    },
    {
     "data": {
      "image/png": "[encoded data removed]",
      "text/plain": [
       "<Figure size 432x288 with 1 Axes>"
      ]
     },
     "metadata": {},
     "output_type": "display_data"
    }
   ],
   "source": [
    "sns.barplot(pred_detail['SSG'].index, pred_detail['SSG'].values)\n",
    "plt.title('SSG 랜더스')\n",
    "plt.xlabel('등수')\n",
    "plt.ylabel('확률')"
   ]
  },
  {
   "cell_type": "markdown",
   "id": "cbde693d",
   "metadata": {},
   "source": [
    "부동의 1위팀답게 1위확률이 가장 높으며, 대부분의 수치가 가을야구를 향하고 있다. 6등 확률이 1등확률 다음으로 높게 나온게 흠이다."
   ]
  },
  {
   "cell_type": "markdown",
   "id": "4c102f2b",
   "metadata": {},
   "source": [
    "### 2위) 키움 히어로즈"
   ]
  },
  {
   "cell_type": "code",
   "execution_count": 11,
   "id": "d548371f",
   "metadata": {},
   "outputs": [
    {
     "data": {
      "text/plain": [
       "Text(0, 0.5, '확률')"
      ]
     },
     "execution_count": 11,
     "metadata": {},
     "output_type": "execute_result"
    },
    {
     "data": {
      "image/png": "[encoded data removed]",
      "text/plain": [
       "<Figure size 432x288 with 1 Axes>"
      ]
     },
     "metadata": {},
     "output_type": "display_data"
    }
   ],
   "source": [
    "sns.barplot(pred_detail['KIWOOM'].index, pred_detail['KIWOOM'].values)\n",
    "plt.title('키움 히어로즈')\n",
    "plt.xlabel('등수')\n",
    "plt.ylabel('확률')"
   ]
  },
  {
   "cell_type": "markdown",
   "id": "be8e3484",
   "metadata": {},
   "source": [
    "우승까지는 힘들지만, 가을야구는 무조건 가는 팀이다. 예상과 비슷하다."
   ]
  },
  {
   "cell_type": "markdown",
   "id": "363d4ef2",
   "metadata": {},
   "source": [
    "### 3위) LG 트윈스"
   ]
  },
  {
   "cell_type": "code",
   "execution_count": 12,
   "id": "49b198ed",
   "metadata": {},
   "outputs": [
    {
     "data": {
      "text/plain": [
       "Text(0, 0.5, '확률')"
      ]
     },
     "execution_count": 12,
     "metadata": {},
     "output_type": "execute_result"
    },
    {
     "data": {
      "image/png": "[encoded data removed]",
      "text/plain": [
       "<Figure size 432x288 with 1 Axes>"
      ]
     },
     "metadata": {},
     "output_type": "display_data"
    }
   ],
   "source": [
    "sns.barplot(pred_detail['LG'].index, pred_detail['LG'].values)\n",
    "plt.title('LG 트윈스')\n",
    "plt.xlabel('등수')\n",
    "plt.ylabel('확률')"
   ]
  },
  {
   "cell_type": "markdown",
   "id": "a2a897e5",
   "metadata": {},
   "source": [
    "LG 또한 역시 강팀이다. 우승후보다운 확률이다."
   ]
  },
  {
   "cell_type": "markdown",
   "id": "eb092d57",
   "metadata": {},
   "source": [
    "### 4위) KT 위즈"
   ]
  },
  {
   "cell_type": "code",
   "execution_count": 13,
   "id": "00e49fba",
   "metadata": {},
   "outputs": [
    {
     "data": {
      "text/plain": [
       "Text(0, 0.5, '확률')"
      ]
     },
     "execution_count": 13,
     "metadata": {},
     "output_type": "execute_result"
    },
    {
     "data": {
      "image/png": "[encoded data removed]",
      "text/plain": [
       "<Figure size 432x288 with 1 Axes>"
      ]
     },
     "metadata": {},
     "output_type": "display_data"
    }
   ],
   "source": [
    "sns.barplot(pred_detail['KT'].index, pred_detail['KT'].values)\n",
    "plt.title('KT 위즈')\n",
    "plt.xlabel('등수')\n",
    "plt.ylabel('확률')"
   ]
  },
  {
   "cell_type": "markdown",
   "id": "850fd1cf",
   "metadata": {},
   "source": [
    "역시 작년 우승팀이다. 초반에는 부상 등 여러가지 이슈때문에 하위권에 쳐져있다가 최근들어 놀라운 기세로 4위까지 올라왔다. 충분히 더 위로 올라갈 여지가 있는 팀이라고 해석된다."
   ]
  },
  {
   "cell_type": "markdown",
   "id": "3126f1d7",
   "metadata": {},
   "source": [
    "### 5위) 기아 타이거즈"
   ]
  },
  {
   "cell_type": "code",
   "execution_count": 14,
   "id": "9c65845d",
   "metadata": {},
   "outputs": [
    {
     "data": {
      "text/plain": [
       "Text(0, 0.5, '확률')"
      ]
     },
     "execution_count": 14,
     "metadata": {},
     "output_type": "execute_result"
    },
    {
     "data": {
      "image/png": "[encoded data removed]",
      "text/plain": [
       "<Figure size 432x288 with 1 Axes>"
      ]
     },
     "metadata": {},
     "output_type": "display_data"
    }
   ],
   "source": [
    "sns.barplot(pred_detail['KIA'].index, pred_detail['KIA'].values)\n",
    "plt.title('KIA 타이거즈')\n",
    "plt.xlabel('등수')\n",
    "plt.ylabel('확률')"
   ]
  },
  {
   "cell_type": "markdown",
   "id": "e6a3d8ae",
   "metadata": {},
   "source": [
    "다른 팀에 비해서 등수 예측이 확연한 편이다. 5등의 확률이 80%가 넘어간다. 놀라운 타격과 탄탄한 마무리 등으로 기세를 타며, 상위권까지 올라갔지만, 용병 투수들의 아쉬운 활약속에서 선발진이 무너지며 최근 연패를 거듭했다. 아무래도 하위권갈 전력은 아니지만, 용병 투수의 문제로 인해 상위권은 힘든 전력이다. "
   ]
  },
  {
   "cell_type": "markdown",
   "id": "48c69023",
   "metadata": {},
   "source": [
    "### 6위) 롯데 자이언츠"
   ]
  },
  {
   "cell_type": "code",
   "execution_count": 15,
   "id": "d6882d7b",
   "metadata": {},
   "outputs": [
    {
     "data": {
      "text/plain": [
       "Text(0, 0.5, '확률')"
      ]
     },
     "execution_count": 15,
     "metadata": {},
     "output_type": "execute_result"
    },
    {
     "data": {
      "image/png": "[encoded data removed]",
      "text/plain": [
       "<Figure size 432x288 with 1 Axes>"
      ]
     },
     "metadata": {},
     "output_type": "display_data"
    }
   ],
   "source": [
    "sns.barplot(pred_detail['LOTTE'].index, pred_detail['LOTTE'].values)\n",
    "plt.title('롯데 자이언츠')\n",
    "plt.xlabel('등수')\n",
    "plt.ylabel('확률')"
   ]
  },
  {
   "cell_type": "markdown",
   "id": "78f8d91b",
   "metadata": {},
   "source": [
    "1등과 2등 확률이 생각보다 잘나와서 놀라웠다. 보이는 지표에 비해서 역시 세밀한 플레이(수비 등)가 부족한 팀이라서 그럴지도 모른다."
   ]
  },
  {
   "cell_type": "markdown",
   "id": "54bb92b0",
   "metadata": {},
   "source": [
    "### 7위) 두산 베어스"
   ]
  },
  {
   "cell_type": "code",
   "execution_count": 16,
   "id": "bf89d1dc",
   "metadata": {},
   "outputs": [
    {
     "data": {
      "text/plain": [
       "Text(0, 0.5, '확률')"
      ]
     },
     "execution_count": 16,
     "metadata": {},
     "output_type": "execute_result"
    },
    {
     "data": {
      "image/png": "[encoded data removed]",
      "text/plain": [
       "<Figure size 432x288 with 1 Axes>"
      ]
     },
     "metadata": {},
     "output_type": "display_data"
    }
   ],
   "source": [
    "sns.barplot(pred_detail['DOOSAN'].index, pred_detail['DOOSAN'].values)\n",
    "plt.title('두산 베어스')\n",
    "plt.xlabel('등수')\n",
    "plt.ylabel('확률')"
   ]
  },
  {
   "cell_type": "markdown",
   "id": "b38650d6",
   "metadata": {},
   "source": [
    "항상 가을야구는 가던 강팀이었지만, 올해는 힘든가보다. 잘해봤자 6위가 예측된다. 작년 mvp인 미란다의 부상이 컸을 것이다."
   ]
  },
  {
   "cell_type": "markdown",
   "id": "17efcc10",
   "metadata": {},
   "source": [
    "### 8위) 삼성 라이온즈"
   ]
  },
  {
   "cell_type": "code",
   "execution_count": 17,
   "id": "00c083a5",
   "metadata": {},
   "outputs": [
    {
     "data": {
      "text/plain": [
       "Text(0, 0.5, '확률')"
      ]
     },
     "execution_count": 17,
     "metadata": {},
     "output_type": "execute_result"
    },
    {
     "data": {
      "image/png": "[encoded data removed]",
      "text/plain": [
       "<Figure size 432x288 with 1 Axes>"
      ]
     },
     "metadata": {},
     "output_type": "display_data"
    }
   ],
   "source": [
    "sns.barplot(pred_detail['SAMSUNG'].index, pred_detail['SAMSUNG'].values)\n",
    "plt.title('삼성 라이온즈')\n",
    "plt.xlabel('등수')\n",
    "plt.ylabel('확률')"
   ]
  },
  {
   "cell_type": "markdown",
   "id": "69e44313",
   "metadata": {},
   "source": [
    "현재 창단 최다인 11연패를 기록하고 있는 팀이다. (2022년 7월 17일 기준) 확실히 낮은 등수가 예측되었다. 작년 최고 승률팀의 몰락이다. 한편, 연패 기간동안 100실점을 넘게 줬으니 방어율과 같은 투수관련 지표가 크게 올랐고 이것이 예측하는데 영향이 컸을 것이다."
   ]
  },
  {
   "cell_type": "markdown",
   "id": "e3c755ae",
   "metadata": {},
   "source": [
    "### 9위) NC 다이노스"
   ]
  },
  {
   "cell_type": "code",
   "execution_count": 18,
   "id": "ecf0ec53",
   "metadata": {},
   "outputs": [
    {
     "data": {
      "text/plain": [
       "Text(0, 0.5, '확률')"
      ]
     },
     "execution_count": 18,
     "metadata": {},
     "output_type": "execute_result"
    },
    {
     "data": {
      "image/png": "[encoded data removed]",
      "text/plain": [
       "<Figure size 432x288 with 1 Axes>"
      ]
     },
     "metadata": {},
     "output_type": "display_data"
    }
   ],
   "source": [
    "sns.barplot(pred_detail['NC'].index, pred_detail['NC'].values)\n",
    "plt.title('NC 다이노스')\n",
    "plt.xlabel('등수')\n",
    "plt.ylabel('확률')"
   ]
  },
  {
   "cell_type": "markdown",
   "id": "e4260f88",
   "metadata": {},
   "source": [
    "9위 팀치고 좋은 예측을 보여준다. 확실히 시즌개막전 여러 전문가들이 가을은 갈 것이라고 지목한 팀이다. 하지만, 시즌초반 여러 이슈와 함께 승수를 많이 쌓지 못했고 조금씩 반등하는 기미는 보여줬지만 아직 갈 길은 많이 남았다. 확실히 야구는 투수놀음인게, 루친스키와 구창모라는 필승카드덕분에 좋아진 투수지표가 이 예측에 도움이 되었다고 생각한다."
   ]
  },
  {
   "cell_type": "markdown",
   "id": "dd31be4c",
   "metadata": {},
   "source": [
    "### 10위) 한화 이글스"
   ]
  },
  {
   "cell_type": "code",
   "execution_count": 19,
   "id": "ae3bf812",
   "metadata": {},
   "outputs": [
    {
     "data": {
      "text/plain": [
       "Text(0, 0.5, '확률')"
      ]
     },
     "execution_count": 19,
     "metadata": {},
     "output_type": "execute_result"
    },
    {
     "data": {
      "image/png": "[encoded data removed]",
      "text/plain": [
       "<Figure size 432x288 with 1 Axes>"
      ]
     },
     "metadata": {},
     "output_type": "display_data"
    }
   ],
   "source": [
    "sns.barplot(pred_detail['HANHWA'].index, pred_detail['HANHWA'].values)\n",
    "plt.title('한화 이글스')\n",
    "plt.xlabel('등수')\n",
    "plt.ylabel('확률')"
   ]
  },
  {
   "cell_type": "markdown",
   "id": "bf04e028",
   "metadata": {},
   "source": [
    "부동의 약팀이다. 모든 지표에서 낙제점에 가까운 지표를 지니고 있었으며 이는 그래프에서 드러난다. 데이터의 부족과 dependency문제때문에 10등이 안나왔다고 생각된다."
   ]
  },
  {
   "cell_type": "markdown",
   "id": "9ce19b9b",
   "metadata": {},
   "source": [
    "## Xavier initialization 예측 결과"
   ]
  },
  {
   "cell_type": "code",
   "execution_count": 20,
   "id": "703cf4f4",
   "metadata": {},
   "outputs": [
    {
     "name": "stdout",
     "output_type": "stream",
     "text": [
      "   SSG  KIWOOM  LG  KT  KIA  LOTTE  DOOSAN  SAMSUNG  NC  HANHWA\n",
      "1    3       3   2   5    6      1       8        9   7      10\n",
      "2    4       4   1   3    4      5       7        8   9       9\n",
      "3    5       2   3   4    5      2       9        7   8       8\n",
      "     SSG  KIWOOM    LG    KT   KIA  LOTTE  DOOSAN  SAMSUNG    NC  HANHWA\n",
      "1  0.047   0.121 0.318 0.023 0.004  0.887   0.000    0.000 0.000   0.000\n",
      "2  0.025   0.124 0.652 0.012 0.001  0.007   0.000    0.000 0.000   0.000\n",
      "3  0.394   0.510 0.021 0.358 0.007  0.000   0.000    0.000 0.000   0.000\n",
      "4  0.309   0.127 0.003 0.193 0.306  0.000   0.003    0.000 0.001   0.000\n",
      "5  0.218   0.117 0.006 0.388 0.185  0.105   0.000    0.000 0.002   0.000\n",
      "6  0.007   0.001 0.000 0.024 0.472  0.000   0.073    0.001 0.056   0.000\n",
      "7  0.000   0.000 0.000 0.001 0.018  0.000   0.356    0.110 0.458   0.006\n",
      "8  0.000   0.000 0.000 0.000 0.007  0.000   0.467    0.432 0.196   0.027\n",
      "9  0.000   0.000 0.000 0.000 0.000  0.000   0.100    0.448 0.261   0.284\n",
      "10 0.000   0.000 0.000 0.000 0.000  0.001   0.000    0.010 0.026   0.684\n"
     ]
    }
   ],
   "source": [
    "# 예측\n",
    "pred_top3, pred_detail = nn2.predict(X_test, y_test, TEAM = test_data.dropna()['TEAM'])\n",
    "print(pred_top3)\n",
    "print(pred_detail)"
   ]
  },
  {
   "cell_type": "markdown",
   "id": "cbf1dbad",
   "metadata": {},
   "source": [
    "별 차이가 없다고 생각했는데, 흐름은 비슷하지만 결과에서 조금의 변화가 있었다. 아무래도 loss값 자체가 너무 높기 때문이라고 생각한다.\n",
    "LG가 우승권이며 SSG, 키움, KT, 기아 등은 가을야구권이라고 예측되었다. 그리고 두산, 삼성, NC, 한화는 하위권이 예상되었다.\n",
    "\n",
    "제일 눈에 띄는건, 롯데인데... 내 주관이 들어간걸까...모르겠다. 좋은 지표가 FIP밖에 없는데, 이 지표가 영향이 크다고 밖에 생각이 안된다. 아 몰라, 롯데 화이팅 !!!"
   ]
  }
 ],
 "metadata": {
  "kernelspec": {
   "display_name": "Python 3",
   "language": "python",
   "name": "python3"
  },
  "language_info": {
   "codemirror_mode": {
    "name": "ipython",
    "version": 3
   },
   "file_extension": ".py",
   "mimetype": "text/x-python",
   "name": "python",
   "nbconvert_exporter": "python",
   "pygments_lexer": "ipython3",
   "version": "3.8.8"
  }
 },
 "nbformat": 4,
 "nbformat_minor": 5
}
